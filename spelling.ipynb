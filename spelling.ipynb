{
  "nbformat": 4,
  "nbformat_minor": 0,
  "metadata": {
    "colab": {
      "provenance": [],
      "authorship_tag": "ABX9TyOdq3bDj5w51KF+XintZ5I+",
      "include_colab_link": true
    },
    "kernelspec": {
      "name": "python3",
      "display_name": "Python 3"
    },
    "language_info": {
      "name": "python"
    }
  },
  "cells": [
    {
      "cell_type": "markdown",
      "metadata": {
        "id": "view-in-github",
        "colab_type": "text"
      },
      "source": [
        "<a href=\"https://colab.research.google.com/github/sundaybest3/nounsmart_spelling/blob/main/spelling.ipynb\" target=\"_parent\"><img src=\"https://colab.research.google.com/assets/colab-badge.svg\" alt=\"Open In Colab\"/></a>"
      ]
    },
    {
      "cell_type": "code",
      "execution_count": null,
      "metadata": {
        "id": "7I62-1GGW9So"
      },
      "outputs": [],
      "source": [
        "%%capture\n",
        "!pip install gradio\n",
        "!pip install pandas\n",
        "!pip install random"
      ]
    },
    {
      "cell_type": "code",
      "source": [
        "import gradio as gr\n",
        "import pandas as pd\n",
        "import random\n",
        "\n",
        "# Load the CSV file\n",
        "csv_url = \"https://raw.githubusercontent.com/sundaybest3/NounSmart_Streamlit/main/nouns_CE_visang.csv\"\n",
        "df = pd.read_csv(csv_url)\n",
        "\n",
        "# Inspect the columns\n",
        "expected_columns = [\"Page\", \"Word\", \"Countability\", \"Plural\"]\n",
        "missing_columns = [col for col in expected_columns if col not in df.columns]\n",
        "if missing_columns:\n",
        "    raise ValueError(f\"The following required columns are missing in the CSV: {', '.join(missing_columns)}\")\n",
        "\n",
        "# Filter only countable nouns\n",
        "df_countable = df[df[\"Countability\"].str.lower() == \"countable\"].copy()\n",
        "\n",
        "# Initialize game state\n",
        "game_state = {\n",
        "    \"nickname\": None,\n",
        "    \"page\": None,\n",
        "    \"current_noun\": None,\n",
        "    \"remaining_nouns\": None,\n",
        "    \"score\": 0,\n",
        "    \"trials\": 0,\n",
        "    \"total_nouns\": 0\n",
        "}\n",
        "\n",
        "# Function to reset the game state\n",
        "def reset_game_state():\n",
        "    game_state[\"current_noun\"] = None\n",
        "    game_state[\"remaining_nouns\"] = None\n",
        "    game_state[\"score\"] = 0\n",
        "    game_state[\"trials\"] = 0\n",
        "    game_state[\"total_nouns\"] = 0\n",
        "\n",
        "# Function to filter countable nouns by page and prepare the list of nouns\n",
        "def initialize_nouns(page):\n",
        "    reset_game_state()\n",
        "    filtered_df = df_countable[df_countable[\"Page\"] == page]\n",
        "    if filtered_df.empty:\n",
        "        return \"No countable nouns available for this page. Please select a different page.\"\n",
        "    game_state[\"remaining_nouns\"] = filtered_df.sample(frac=1).to_dict(orient=\"records\")\n",
        "    game_state[\"total_nouns\"] = len(filtered_df)\n",
        "    return show_random_noun()\n",
        "\n",
        "# Function to show a random noun\n",
        "def show_random_noun():\n",
        "    if not game_state[\"remaining_nouns\"]:\n",
        "        return f\"🎉 Great job, {game_state['nickname']}! All nouns in page {game_state['page']} have been answered correctly. (Score: {game_state['score']}/{game_state['total_nouns']})\"\n",
        "\n",
        "    game_state[\"current_noun\"] = game_state[\"remaining_nouns\"].pop()\n",
        "    return game_state[\"current_noun\"][\"Word\"]\n",
        "\n",
        "# Function to check user's plural input\n",
        "def check_plural(user_input):\n",
        "    if not game_state.get(\"current_noun\"):\n",
        "        return \"Please click 'Show the Noun' first.\"\n",
        "\n",
        "    correct_plural = game_state[\"current_noun\"][\"Plural\"].strip().lower()\n",
        "    game_state[\"trials\"] += 1\n",
        "\n",
        "    if user_input.lower().strip() == correct_plural:\n",
        "        game_state[\"score\"] += 1\n",
        "        feedback = f\"✅ Correct! The plural of '{game_state['current_noun']['Word']}' is '{correct_plural}'. (Score: {game_state['score']}/{game_state['trials']}) Click 'Show the Noun' to continue.\"\n",
        "    else:\n",
        "        # Add the noun back to the remaining list for retry\n",
        "        game_state[\"remaining_nouns\"].insert(0, game_state[\"current_noun\"])\n",
        "        feedback = f\"❌ Incorrect. The plural of '{game_state['current_noun']['Word']}' is '{correct_plural}'. (Score: {game_state['score']}/{game_state['trials']}) It will appear again. Click 'Show the Noun' to continue.\"\n",
        "\n",
        "    if not game_state[\"remaining_nouns\"]:\n",
        "        feedback += f\" 🎉 Great job, {game_state['nickname']}! All nouns in page {game_state['page']} have been answered correctly. (Score: {game_state['score']}/{game_state['total_nouns']})\"\n",
        "\n",
        "    return feedback\n",
        "\n",
        "# Gradio interface\n",
        "def main_interface(nickname, page, user_input=None):\n",
        "    if page != game_state.get(\"page\"):\n",
        "        game_state[\"nickname\"] = nickname\n",
        "        game_state[\"page\"] = page\n",
        "        return initialize_nouns(page)\n",
        "\n",
        "    if user_input is None:\n",
        "        return show_random_noun()\n",
        "\n",
        "    feedback = check_plural(user_input)\n",
        "    return feedback\n",
        "\n",
        "# Prepare page summary for dropdown\n",
        "def get_page_summary():\n",
        "    summary = df_countable.groupby(\"Page\").size().reset_index(name=\"Total\")\n",
        "    summary[\"Display\"] = summary[\"Page\"].astype(str) + \" (\" + summary[\"Total\"].astype(str) + \" nouns)\"\n",
        "    return summary[\"Page\"], summary[\"Display\"]\n",
        "\n",
        "pages, page_display = get_page_summary()\n",
        "page_choices = dict(zip(page_display, pages))\n",
        "\n",
        "# Gradio app components\n",
        "with gr.Blocks() as app:\n",
        "    nickname = gr.Textbox(label=\"Enter your nickname:\")\n",
        "    page = gr.Dropdown(choices=list(page_choices.keys()), label=\"Select your page:\")\n",
        "    show_button = gr.Button(\"Show the Noun\")\n",
        "    noun_display = gr.Textbox(label=\"Noun:\", interactive=False)\n",
        "    plural_input = gr.Textbox(label=\"Enter the plural form:\")\n",
        "    submit_button = gr.Button(\"Check the Answer\")\n",
        "    feedback_display = gr.Textbox(label=\"Feedback and Score:\", interactive=False)\n",
        "\n",
        "    # Map display back to page for processing\n",
        "    def map_page_choice(display_choice):\n",
        "        return page_choices[display_choice]\n",
        "\n",
        "    show_button.click(fn=lambda n, p: main_interface(n, map_page_choice(p)), inputs=[nickname, page], outputs=[noun_display])\n",
        "    submit_button.click(fn=lambda n, p, c: main_interface(n, map_page_choice(p), c), inputs=[nickname, page, plural_input], outputs=[feedback_display])\n",
        "\n",
        "app.launch()\n"
      ],
      "metadata": {
        "colab": {
          "base_uri": "https://localhost:8080/",
          "height": 631
        },
        "id": "fN3WuokXgvm6",
        "outputId": "ba8e58c3-fd5d-4e47-d4f3-3749f3207b4f"
      },
      "execution_count": null,
      "outputs": [
        {
          "output_type": "stream",
          "name": "stdout",
          "text": [
            "Running Gradio in a Colab notebook requires sharing enabled. Automatically setting `share=True` (you can turn this off by setting `share=False` in `launch()` explicitly).\n",
            "\n",
            "Colab notebook detected. To show errors in colab notebook, set debug=True in launch()\n",
            "* Running on public URL: https://10403eb0a85698ff42.gradio.live\n",
            "\n",
            "This share link expires in 72 hours. For free permanent hosting and GPU upgrades, run `gradio deploy` from the terminal in the working directory to deploy to Hugging Face Spaces (https://huggingface.co/spaces)\n"
          ]
        },
        {
          "output_type": "display_data",
          "data": {
            "text/plain": [
              "<IPython.core.display.HTML object>"
            ],
            "text/html": [
              "<div><iframe src=\"https://10403eb0a85698ff42.gradio.live\" width=\"100%\" height=\"500\" allow=\"autoplay; camera; microphone; clipboard-read; clipboard-write;\" frameborder=\"0\" allowfullscreen></iframe></div>"
            ]
          },
          "metadata": {}
        },
        {
          "output_type": "execute_result",
          "data": {
            "text/plain": []
          },
          "metadata": {},
          "execution_count": 14
        }
      ]
    }
  ]
}